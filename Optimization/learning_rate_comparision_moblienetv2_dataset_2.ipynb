{
  "cells": [
    {
      "cell_type": "code",
      "execution_count": 1,
      "metadata": {
        "colab": {
          "base_uri": "https://localhost:8080/"
        },
        "id": "8yVPiACibuf7",
        "outputId": "1ad9322e-8945-4ef8-c103-e0c84d1a9a7b"
      },
      "outputs": [],
      "source": [
        "DATASET_TYPE = 'dataset_2'\n",
        "ARCHITECTURE = 'mobilenet'"
      ]
    },
    {
      "cell_type": "code",
      "execution_count": 2,
      "metadata": {
        "id": "iQrpuP3r_-52"
      },
      "outputs": [],
      "source": [
        "import torch\n",
        "import torch.nn as nn\n",
        "from torch.nn import CrossEntropyLoss\n",
        "from torch.optim import Adam\n",
        "\n",
        "import torchvision\n",
        "from torchvision.transforms import transforms\n",
        "from torch.utils.data import DataLoader\n",
        "from torchvision.datasets import ImageFolder\n",
        "from torchvision.models import mobilenet_v2\n",
        "\n",
        "import numpy as np\n",
        "\n",
        "import matplotlib.pyplot as plt\n",
        "from sklearn.metrics import confusion_matrix\n",
        "from sklearn.metrics import classification_report\n",
        "from sklearn.metrics import accuracy_score, precision_score, recall_score, f1_score\n",
        "\n",
        "import seaborn as sns"
      ]
    },
    {
      "cell_type": "code",
      "execution_count": 3,
      "metadata": {
        "colab": {
          "base_uri": "https://localhost:8080/"
        },
        "id": "PHgMj70gb7B3",
        "outputId": "e62772f5-2054-4c60-e115-5b262774ac1a"
      },
      "outputs": [
        {
          "name": "stderr",
          "output_type": "stream",
          "text": [
            "Copying files: 14658 files [00:04, 3145.15 files/s]\n"
          ]
        }
      ],
      "source": [
        "# splitting the dataset into specific folders for train, validate and test\n",
        "import splitfolders\n",
        "\n",
        "source_folder = f'{DATASET_TYPE}'\n",
        "target_folder = f'{DATASET_TYPE}_splitted'\n",
        "\n",
        "train_ratio = .7\n",
        "val_ratio = .15\n",
        "test_ratio = .15\n",
        "\n",
        "splitfolders.ratio(source_folder, output=target_folder, seed=1337, ratio=(train_ratio, val_ratio, test_ratio), group_prefix=None, move=False)"
      ]
    },
    {
      "cell_type": "code",
      "execution_count": 4,
      "metadata": {
        "colab": {
          "base_uri": "https://localhost:8080/"
        },
        "id": "PkkT3_t2BP03",
        "outputId": "55c11aa8-8f10-4de3-d004-e4b5bf2bbf74"
      },
      "outputs": [
        {
          "name": "stdout",
          "output_type": "stream",
          "text": [
            "['early blight', 'healthy', 'late blight', 'mosaic virus', 'powdery mildew', 'septoria']\n"
          ]
        }
      ],
      "source": [
        "# applying data prepocessing and loading dataset\n",
        "train_dataset_tranform = transforms.Compose([\n",
        "    transforms.Resize((224, 224)),\n",
        "    transforms.RandomHorizontalFlip(),\n",
        "    transforms.RandomRotation(10),\n",
        "    transforms.ColorJitter(brightness=0.2, contrast=0.2, saturation=0.2, hue=0.2),\n",
        "    transforms.ToTensor(),\n",
        "    transforms.Normalize(mean=[0.485, 0.456, 0.406], std=[0.229, 0.224, 0.225])\n",
        "])\n",
        "\n",
        "test_dataset_tranform = transforms.Compose([\n",
        "    transforms.Resize((224, 224)),\n",
        "    transforms.ToTensor(),\n",
        "    transforms.Normalize(mean=[0.485, 0.456, 0.406], std=[0.229, 0.224, 0.225])\n",
        "])\n",
        "\n",
        "train_dataset = ImageFolder(f\"{DATASET_TYPE}_splitted/train\", transform=train_dataset_tranform)\n",
        "train_length = len(train_dataset)\n",
        "\n",
        "validate_dataset = ImageFolder(f\"{DATASET_TYPE}_splitted/val\", transform=test_dataset_tranform)\n",
        "validate_length = len(validate_dataset)\n",
        "\n",
        "test_dataset = ImageFolder(f\"{DATASET_TYPE}_splitted/test\", transform=test_dataset_tranform)\n",
        "test_dataset_length = len(test_dataset)\n",
        "\n",
        "dataset_classes = train_dataset.classes\n",
        "print(dataset_classes)"
      ]
    },
    {
      "cell_type": "code",
      "execution_count": 5,
      "metadata": {
        "colab": {
          "base_uri": "https://localhost:8080/"
        },
        "id": "srQ7n9wHXrW3",
        "outputId": "0fcf445c-ef5c-42e2-bcdf-4f41112083c4"
      },
      "outputs": [
        {
          "name": "stdout",
          "output_type": "stream",
          "text": [
            "cuda\n"
          ]
        }
      ],
      "source": [
        "# setting up the device\n",
        "device = torch.device(\"cuda\" if torch.cuda.is_available() else \"cpu\")\n",
        "print(device)"
      ]
    },
    {
      "cell_type": "code",
      "execution_count": 6,
      "metadata": {
        "id": "UjPU3JT_VI33"
      },
      "outputs": [],
      "source": [
        "# modifying architecture output classes\n",
        "class MobileNetV2(nn.Module):\n",
        "  def __init__(self, num_of_classes):\n",
        "    super(MobileNetV2, self).__init__()\n",
        "    self.model = mobilenet_v2(weights=None)\n",
        "    features = self.model.classifier[-1].in_features\n",
        "    self.model.classifier[-1] = nn.Linear(features, num_of_classes)\n",
        "\n",
        "  def forward(self, x):\n",
        "    x = self.model(x)\n",
        "    return x"
      ]
    },
    {
      "cell_type": "code",
      "execution_count": 8,
      "metadata": {
        "id": "RvJznyzVZuDv"
      },
      "outputs": [
        {
          "name": "stdout",
          "output_type": "stream",
          "text": [
            "learning rate: ---------------> 0.01\n",
            "epoch number ---> 1 \n",
            "training loss: 1.5620  training accuracy: 38.73 %\n",
            "validation loss: 1.5395  validation accuracy: 49.89 %\n",
            "epoch number ---> 2 \n",
            "training loss: 1.1692  training accuracy: 53.74 %\n",
            "validation loss: 1.4665  validation accuracy: 49.20 %\n",
            "epoch number ---> 3 \n",
            "training loss: 1.0654  training accuracy: 59.01 %\n",
            "validation loss: 1.0115  validation accuracy: 62.19 %\n",
            "epoch number ---> 4 \n",
            "training loss: 0.9963  training accuracy: 61.45 %\n",
            "validation loss: 0.9242  validation accuracy: 63.74 %\n",
            "epoch number ---> 5 \n",
            "training loss: 0.9326  training accuracy: 64.88 %\n",
            "validation loss: 0.8398  validation accuracy: 67.33 %\n",
            "epoch number ---> 6 \n",
            "training loss: 0.8954  training accuracy: 65.66 %\n",
            "validation loss: 1.0192  validation accuracy: 62.05 %\n",
            "epoch number ---> 7 \n",
            "training loss: 0.8539  training accuracy: 67.05 %\n",
            "validation loss: 0.8381  validation accuracy: 66.70 %\n",
            "epoch number ---> 8 \n",
            "training loss: 0.8505  training accuracy: 67.62 %\n",
            "validation loss: 0.7051  validation accuracy: 71.62 %\n",
            "epoch number ---> 9 \n",
            "training loss: 0.7766  training accuracy: 70.46 %\n",
            "validation loss: 0.7445  validation accuracy: 71.07 %\n",
            "epoch number ---> 10 \n",
            "training loss: 0.7640  training accuracy: 70.35 %\n",
            "validation loss: 0.7567  validation accuracy: 72.53 %\n",
            "epoch number ---> 11 \n",
            "training loss: 0.7361  training accuracy: 71.68 %\n",
            "validation loss: 0.6768  validation accuracy: 72.85 %\n",
            "epoch number ---> 12 \n",
            "training loss: 0.7116  training accuracy: 72.51 %\n",
            "validation loss: 0.8007  validation accuracy: 71.12 %\n",
            "epoch number ---> 13 \n",
            "training loss: 0.6899  training accuracy: 73.73 %\n",
            "validation loss: 1.1875  validation accuracy: 58.18 %\n",
            "epoch number ---> 14 \n",
            "training loss: 0.6460  training accuracy: 75.09 %\n",
            "validation loss: 0.6716  validation accuracy: 74.31 %\n",
            "epoch number ---> 15 \n",
            "training loss: 0.6438  training accuracy: 75.12 %\n",
            "validation loss: 0.7368  validation accuracy: 72.07 %\n",
            "training and validation for 15 epochs completed\n",
            "train losses: [1.5619855463875005, 1.1691975493608795, 1.0654053377068562, 0.9963347371320547, 0.9326396788129155, 0.8953697329722576, 0.8538541630928561, 0.850508991975962, 0.7765956295202978, 0.7639636066019165, 0.7360620220995838, 0.7115508712226559, 0.6899359094800416, 0.6459882936862685, 0.6438052250731806]\n",
            "train accuracies: [38.730746734256186, 53.74341976993566, 59.007603821407685, 61.45447455644375, 64.87619418990056, 65.65607330863716, 67.05010723337882, 67.61551959446285, 70.46207837785144, 70.34509651004093, 71.68063950087736, 72.509261064535, 73.72782218756093, 75.09261064534996, 75.1218561123026]\n",
            "validation losses: [1.5394724709647043, 1.466456059047154, 1.0114685671670096, 0.9241588660648891, 0.839789525100163, 1.0191504069737025, 0.8380651593208313, 0.7051419743469783, 0.7444939000265939, 0.7567323471818651, 0.6768356629780361, 0.8006508656910487, 1.1874707324164255, 0.6716256473745619, 0.7368055616106306]\n",
            "validation accuracies: [49.88610478359909, 49.202733485193626, 62.1867881548975, 63.735763097949885, 67.33485193621867, 62.0501138952164, 66.69703872437358, 71.61731207289293, 71.07061503416855, 72.52847380410023, 72.84738041002278, 71.11617312072893, 58.17767653758542, 74.30523917995444, 72.07289293849658]\n",
            "learning rate: ---------------> 0.001\n",
            "epoch number ---> 1 \n",
            "training loss: 1.3609  training accuracy: 45.10 %\n",
            "validation loss: 1.0219  validation accuracy: 59.68 %\n",
            "epoch number ---> 2 \n",
            "training loss: 0.9945  training accuracy: 61.76 %\n",
            "validation loss: 0.8472  validation accuracy: 67.88 %\n",
            "epoch number ---> 3 \n",
            "training loss: 0.8859  training accuracy: 65.72 %\n",
            "validation loss: 0.8123  validation accuracy: 69.02 %\n",
            "epoch number ---> 4 \n",
            "training loss: 0.7972  training accuracy: 69.48 %\n",
            "validation loss: 0.6701  validation accuracy: 74.72 %\n",
            "epoch number ---> 5 \n",
            "training loss: 0.7451  training accuracy: 71.38 %\n",
            "validation loss: 0.6826  validation accuracy: 72.71 %\n",
            "epoch number ---> 6 \n",
            "training loss: 0.6982  training accuracy: 72.97 %\n",
            "validation loss: 0.7552  validation accuracy: 70.84 %\n",
            "epoch number ---> 7 \n",
            "training loss: 0.6539  training accuracy: 75.53 %\n",
            "validation loss: 0.5741  validation accuracy: 78.68 %\n",
            "epoch number ---> 8 \n",
            "training loss: 0.6189  training accuracy: 76.50 %\n",
            "validation loss: 0.4864  validation accuracy: 80.68 %\n",
            "epoch number ---> 9 \n",
            "training loss: 0.5675  training accuracy: 78.68 %\n",
            "validation loss: 0.5244  validation accuracy: 80.36 %\n",
            "epoch number ---> 10 \n",
            "training loss: 0.5479  training accuracy: 79.20 %\n",
            "validation loss: 0.4834  validation accuracy: 81.46 %\n",
            "epoch number ---> 11 \n",
            "training loss: 0.5146  training accuracy: 80.49 %\n",
            "validation loss: 0.4480  validation accuracy: 83.19 %\n",
            "epoch number ---> 12 \n",
            "training loss: 0.4835  training accuracy: 81.95 %\n",
            "validation loss: 0.4960  validation accuracy: 81.64 %\n",
            "epoch number ---> 13 \n",
            "training loss: 0.4701  training accuracy: 82.45 %\n",
            "validation loss: 0.4119  validation accuracy: 84.65 %\n",
            "epoch number ---> 14 \n",
            "training loss: 0.4445  training accuracy: 83.03 %\n",
            "validation loss: 0.3408  validation accuracy: 86.70 %\n",
            "epoch number ---> 15 \n",
            "training loss: 0.4294  training accuracy: 84.00 %\n",
            "validation loss: 0.4719  validation accuracy: 81.82 %\n",
            "training and validation for 15 epochs completed\n",
            "train losses: [1.3608797148147724, 0.9945271048486602, 0.8858554733465918, 0.7971596284682706, 0.7451097095234794, 0.6982226686448044, 0.6539186718671218, 0.6188556948063536, 0.5674835637859676, 0.547927702250688, 0.5146152749194862, 0.4834588266307523, 0.47010267734157374, 0.44454076127235936, 0.4293901756498384]\n",
            "train accuracies: [45.096510040943656, 61.75667771495418, 65.72431273152661, 69.47748099044648, 71.37843634236694, 72.96744004679275, 75.5312926496393, 76.49639305907584, 78.68005459153831, 79.1967245077013, 80.49327354260089, 81.9457984012478, 82.4527198284266, 83.02788067849484, 84.00272957691558]\n",
            "validation losses: [1.0219415937151228, 0.8471949424062456, 0.8122778296470642, 0.6701360080923353, 0.6825866264956338, 0.7552061489650181, 0.5740728974342346, 0.48640324558530534, 0.5243898400238582, 0.4834247469902039, 0.44801324946539745, 0.4959961099284036, 0.4119117958205087, 0.3407779093299593, 0.471875604561397]\n",
            "validation accuracies: [59.68109339407744, 67.88154897494306, 69.02050113895216, 74.71526195899773, 72.7107061503417, 70.84282460136674, 78.67881548974943, 80.68337129840548, 80.36446469248291, 81.45785876993166, 83.18906605922551, 81.64009111617312, 84.64692482915717, 86.69703872437357, 81.82232346241459]\n",
            "learning rate: ---------------> 0.0001\n",
            "epoch number ---> 1 \n",
            "training loss: 1.5785  training accuracy: 33.86 %\n",
            "validation loss: 1.2960  validation accuracy: 50.57 %\n",
            "epoch number ---> 2 \n",
            "training loss: 1.3144  training accuracy: 46.70 %\n",
            "validation loss: 1.1179  validation accuracy: 55.35 %\n",
            "epoch number ---> 3 \n",
            "training loss: 1.1430  training accuracy: 55.03 %\n",
            "validation loss: 0.9303  validation accuracy: 63.37 %\n",
            "epoch number ---> 4 \n",
            "training loss: 1.0347  training accuracy: 59.99 %\n",
            "validation loss: 0.8420  validation accuracy: 67.74 %\n",
            "epoch number ---> 5 \n",
            "training loss: 0.9609  training accuracy: 62.50 %\n",
            "validation loss: 0.7873  validation accuracy: 68.75 %\n",
            "epoch number ---> 6 \n",
            "training loss: 0.9118  training accuracy: 64.68 %\n",
            "validation loss: 0.7460  validation accuracy: 71.39 %\n",
            "epoch number ---> 7 \n",
            "training loss: 0.8649  training accuracy: 66.98 %\n",
            "validation loss: 0.7165  validation accuracy: 72.76 %\n",
            "epoch number ---> 8 \n",
            "training loss: 0.8270  training accuracy: 68.55 %\n",
            "validation loss: 0.6781  validation accuracy: 74.08 %\n",
            "epoch number ---> 9 \n",
            "training loss: 0.7846  training accuracy: 69.64 %\n",
            "validation loss: 0.6379  validation accuracy: 75.63 %\n",
            "epoch number ---> 10 \n",
            "training loss: 0.7686  training accuracy: 70.14 %\n",
            "validation loss: 0.6038  validation accuracy: 76.99 %\n",
            "epoch number ---> 11 \n",
            "training loss: 0.7305  training accuracy: 71.61 %\n",
            "validation loss: 0.6075  validation accuracy: 76.26 %\n",
            "epoch number ---> 12 \n",
            "training loss: 0.7015  training accuracy: 72.83 %\n",
            "validation loss: 0.5900  validation accuracy: 76.17 %\n",
            "epoch number ---> 13 \n",
            "training loss: 0.6846  training accuracy: 73.61 %\n",
            "validation loss: 0.5536  validation accuracy: 78.77 %\n",
            "epoch number ---> 14 \n",
            "training loss: 0.6697  training accuracy: 74.33 %\n",
            "validation loss: 0.5345  validation accuracy: 78.59 %\n",
            "epoch number ---> 15 \n",
            "training loss: 0.6442  training accuracy: 75.11 %\n",
            "validation loss: 0.5363  validation accuracy: 78.41 %\n",
            "training and validation for 15 epochs completed\n",
            "train losses: [1.5785317065552895, 1.3143751391712923, 1.1429867748147953, 1.0347277803450639, 0.9608775932596337, 0.9117700179911549, 0.8649232950269806, 0.8270019774111161, 0.7845964716828387, 0.7685507665509763, 0.7305077288461768, 0.7014939747982144, 0.6845922334964231, 0.6696809100808564, 0.6442366423814193]\n",
            "train accuracies: [33.856502242152466, 46.69526223435368, 55.03022031585104, 59.99220120881263, 62.49756287775394, 64.68122441021642, 66.98186781048938, 68.55137453694678, 69.64320530317801, 70.14037824137259, 71.61240007798791, 72.83096120101385, 73.61084031975044, 74.33222850458179, 75.11210762331838]\n",
            "validation losses: [1.2960467100143434, 1.1178560631615775, 0.9303451214517866, 0.8419857450893947, 0.7873455234936305, 0.7459831833839417, 0.7164914105619703, 0.6781385183334351, 0.6379093749182565, 0.6038214087486267, 0.6074608990124294, 0.5899923052106585, 0.5536356261798314, 0.5345071222100939, 0.5362688251904079]\n",
            "validation accuracies: [50.56947608200456, 55.35307517084283, 63.371298405466966, 67.74487471526196, 68.74715261958998, 71.38952164009112, 72.75626423690204, 74.07744874715262, 75.62642369020502, 76.99316628701595, 76.26423690205011, 76.17312072892939, 78.76993166287016, 78.5876993166287, 78.40546697038724]\n"
          ]
        }
      ],
      "source": [
        "\n",
        "# Training model using different learning rates\n",
        "\n",
        "batch_size = 64\n",
        "\n",
        "train_loader = DataLoader(train_dataset, batch_size=batch_size, shuffle=True)\n",
        "validate_loader = DataLoader(validate_dataset, batch_size=batch_size, shuffle=True)\n",
        "test_loader = DataLoader(test_dataset, batch_size=batch_size, shuffle=True)\n",
        "\n",
        "learning_rates = [0.01, 0.001, 0.0001]\n",
        "\n",
        "for learning_rate in (learning_rates):\n",
        "\n",
        "  epochs = 15\n",
        "\n",
        "  model = MobileNetV2(num_of_classes=len(dataset_classes))\n",
        "  model = model.to(device)\n",
        "  optimizer = Adam(model.parameters(), lr=learning_rate)\n",
        "  loss_function = CrossEntropyLoss()\n",
        "\n",
        "  train_losses = []\n",
        "  train_accuracies = []\n",
        "  validate_losses = []\n",
        "  validate_accuracies = []\n",
        "\n",
        "  print(f\"learning rate: ---------------> {learning_rate}\")\n",
        "\n",
        "  for epoch in range(epochs):\n",
        "\n",
        "    print(f\"epoch number ---> {epoch + 1} \")\n",
        "\n",
        "    model.train()\n",
        "    train_batch_loss = 0.0\n",
        "    train_correct_predictions = 0\n",
        "    train_samples = 0\n",
        "    for xtrain, ytrain in train_loader:\n",
        "\n",
        "      optimizer.zero_grad()\n",
        "\n",
        "      xtrain = xtrain.to(device)\n",
        "      ytrain = ytrain.to(device)\n",
        "      train_prob = model(xtrain)\n",
        "\n",
        "      # calculating batch accuracy\n",
        "      _, train_prediction = torch.max(train_prob, 1)\n",
        "      train_samples += ytrain.size(0)\n",
        "      train_correct_predictions += (train_prediction == ytrain).sum().item()\n",
        "\n",
        "      loss = loss_function(train_prob, ytrain)\n",
        "      loss.backward()\n",
        "      optimizer.step()\n",
        "\n",
        "      # calculating batch loss\n",
        "      train_batch_loss += loss.item()\n",
        "\n",
        "    # calculating train loss for epoch\n",
        "    train_loss = train_batch_loss / len(train_loader)\n",
        "    train_losses.append(train_loss)\n",
        "\n",
        "    # calculating train accuracy for epoch\n",
        "    train_accuracy = 100 * (train_correct_predictions / train_samples)\n",
        "    train_accuracies.append(train_accuracy)\n",
        "    print(\"training loss: {:.4f}  training accuracy: {:.2f} %\".format(train_loss, train_accuracy))\n",
        "\n",
        "    validate_batch_loss = 0.0\n",
        "    validate_correct_predictions = 0\n",
        "    validate_samples = 0\n",
        "    model.eval()\n",
        "    with torch.no_grad():\n",
        "      for xvalidate, yvalidate in validate_loader:\n",
        "\n",
        "        optimizer.zero_grad()\n",
        "\n",
        "        xvalidate = xvalidate.to(device)\n",
        "        yvalidate = yvalidate.to(device)\n",
        "        validate_prob = model(xvalidate)\n",
        "\n",
        "        #calculating batch accuracy\n",
        "        _, validate_prediction = torch.max(validate_prob, 1)\n",
        "        validate_samples += yvalidate.size(0)\n",
        "        validate_correct_predictions += (validate_prediction == yvalidate).sum().item()\n",
        "\n",
        "        loss = loss_function(validate_prob, yvalidate)\n",
        "\n",
        "        #calculating batch loss\n",
        "        validate_batch_loss += loss.item()\n",
        "\n",
        "    # calculating validate loss for epoch\n",
        "    validate_loss = validate_batch_loss / len(validate_loader)\n",
        "    validate_losses.append(validate_loss)\n",
        "\n",
        "    # calculating validate accuracy for epoch\n",
        "    validate_accuracy = 100 * (validate_correct_predictions / validate_samples)\n",
        "    validate_accuracies.append(validate_accuracy)\n",
        "    print(\"validation loss: {:.4f}  validation accuracy: {:.2f} %\".format(validate_loss, validate_accuracy))\n",
        "\n",
        "  print(f\"training and validation for {epochs} epochs completed\")\n",
        "  print(f\"train losses: {train_losses}\")\n",
        "  print(f\"train accuracies: {train_accuracies}\")\n",
        "  print(f\"validation losses: {validate_losses}\")\n",
        "  print(f\"validation accuracies: {validate_accuracies}\")\n",
        "\n",
        "  # saving metrics to a file\n",
        "  np.savez(f'{ARCHITECTURE}_{learning_rate}_metrics.npz',\n",
        "          train_losses=train_losses,\n",
        "          train_accuracies=train_accuracies,\n",
        "          validate_losses=validate_losses,\n",
        "          validate_accuracies=validate_accuracies)"
      ]
    },
    {
      "cell_type": "code",
      "execution_count": 25,
      "metadata": {},
      "outputs": [],
      "source": [
        "x1 = np.load('mobilenet_0.01_metrics.npz')\n",
        "val_loss = x1['validate_losses']\n",
        "x2 = np.load('mobilenet_0.001_metrics.npz')\n",
        "val_loss2 = x2['validate_losses']\n",
        "x3 = np.load('mobilenet_0.0001_metrics.npz')\n",
        "val_loss3 = x3['validate_losses']"
      ]
    },
    {
      "cell_type": "code",
      "execution_count": 26,
      "metadata": {},
      "outputs": [
        {
          "data": {
            "image/png": "[encoded data removed]",
            "text/plain": [
              "<Figure size 640x480 with 1 Axes>"
            ]
          },
          "metadata": {},
          "output_type": "display_data"
        }
      ],
      "source": [
        "plt.plot(val_loss,label='0.01')\n",
        "plt.plot(val_loss2,label='0.001')\n",
        "plt.plot(val_loss3,label='0.0001')\n",
        "plt.legend()\n",
        "plt.show()\n"
      ]
    }
  ],
  "metadata": {
    "colab": {
      "provenance": []
    },
    "kernelspec": {
      "display_name": "Python 3",
      "name": "python3"
    },
    "language_info": {
      "codemirror_mode": {
        "name": "ipython",
        "version": 3
      },
      "file_extension": ".py",
      "mimetype": "text/x-python",
      "name": "python",
      "nbconvert_exporter": "python",
      "pygments_lexer": "ipython3",
      "version": "3.9.13"
    }
  },
  "nbformat": 4,
  "nbformat_minor": 0
}
